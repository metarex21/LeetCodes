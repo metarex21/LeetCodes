{
 "cells": [
  {
   "cell_type": "code",
   "execution_count": 11,
   "metadata": {},
   "outputs": [],
   "source": [
    "def findMaxAverage( nums, k):\n",
    "    \"\"\"\n",
    "    :type nums: List[int]\n",
    "    :type k: int\n",
    "    :rtype: float\n",
    "    \"\"\"\n",
    "    start=0\n",
    "    end=k\n",
    "    sumx=sum(nums[start:end])\n",
    "    max_sum=sumx\n",
    "    while end<len(nums):\n",
    "        sumx=sumx-nums[start]+nums[end]\n",
    "        start+=1\n",
    "        end+=1\n",
    "        if max_sum<sumx:\n",
    "            max_sum=sumx\n",
    "        print(\"sumx=\",sumx,\"\\nmax_sum=\",max_sum)\n",
    "    return max_sum/k\n",
    "        \n",
    "        \n",
    "        "
   ]
  },
  {
   "cell_type": "code",
   "execution_count": 2,
   "metadata": {},
   "outputs": [],
   "source": [
    "nums = [1,12,-5,-6,50,3]\n",
    "k = 4"
   ]
  },
  {
   "cell_type": "code",
   "execution_count": 12,
   "metadata": {},
   "outputs": [
    {
     "name": "stdout",
     "output_type": "stream",
     "text": [
      "sumx= 51 \n",
      "Maxsum= 51\n",
      "sumx= 42 \n",
      "Maxsum= 51\n"
     ]
    },
    {
     "data": {
      "text/plain": [
       "12.75"
      ]
     },
     "execution_count": 12,
     "metadata": {},
     "output_type": "execute_result"
    }
   ],
   "source": [
    "findMaxAverage( nums, k)"
   ]
  },
  {
   "cell_type": "code",
   "execution_count": null,
   "metadata": {},
   "outputs": [],
   "source": [
    "class Solution(object):\n",
    "    def findMaxAverage(self, nums, k):\n",
    "        \"\"\"\n",
    "        :type nums: List[int]\n",
    "        :type k: int\n",
    "        :rtype: float\n",
    "        \"\"\"\n",
    "        window_sum = sum(nums[:k])\n",
    "        max_sum = window_sum / k\n",
    "        \n",
    "        for i in range(k, len(nums)):\n",
    "            window_sum += nums[i] - nums[i - k]\n",
    "            max_sum = max(max_sum, window_sum)\n",
    "        \n",
    "        return max_sum/k\n"
   ]
  }
 ],
 "metadata": {
  "kernelspec": {
   "display_name": "Python 3",
   "language": "python",
   "name": "python3"
  },
  "language_info": {
   "codemirror_mode": {
    "name": "ipython",
    "version": 3
   },
   "file_extension": ".py",
   "mimetype": "text/x-python",
   "name": "python",
   "nbconvert_exporter": "python",
   "pygments_lexer": "ipython3",
   "version": "3.11.1"
  },
  "orig_nbformat": 4
 },
 "nbformat": 4,
 "nbformat_minor": 2
}
