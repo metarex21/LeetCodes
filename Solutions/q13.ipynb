{
 "cells": [
  {
   "cell_type": "code",
   "execution_count": 1,
   "metadata": {},
   "outputs": [
    {
     "data": {
      "text/plain": [
       "-31"
      ]
     },
     "execution_count": 1,
     "metadata": {},
     "output_type": "execute_result"
    }
   ],
   "source": [
    "class Solution:\n",
    "    def reverse(self, x: int) -> int:\n",
    "        temp=abs(x)\n",
    "        new=0\n",
    "        while temp>0:\n",
    "            new = new * 10 + temp%10\n",
    "            temp = temp//10\n",
    "        if (-2)**31<=new<2**31 and new!=0:\n",
    "            return new*x//abs(x)\n",
    "        else:return 0"
   ]
  }
 ],
 "metadata": {
  "kernelspec": {
   "display_name": "Python 3.9.7 64-bit",
   "language": "python",
   "name": "python3"
  },
  "language_info": {
   "codemirror_mode": {
    "name": "ipython",
    "version": 3
   },
   "file_extension": ".py",
   "mimetype": "text/x-python",
   "name": "python",
   "nbconvert_exporter": "python",
   "pygments_lexer": "ipython3",
   "version": "3.9.7"
  },
  "orig_nbformat": 4,
  "vscode": {
   "interpreter": {
    "hash": "52d1602d405e53c43c2fd07b40c098af2abaa6111111e453c00e2faec743c57e"
   }
  }
 },
 "nbformat": 4,
 "nbformat_minor": 2
}
