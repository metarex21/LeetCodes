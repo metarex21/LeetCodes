{
 "cells": [
  {
   "cell_type": "code",
   "execution_count": 14,
   "metadata": {},
   "outputs": [],
   "source": [
    "def expand(s,pos):\n",
    "            i=1\n",
    "            max_string=''\n",
    "            \n",
    "            while pos+i<len(s) and i<=pos and s[pos-i]==s[pos+i]:\n",
    "                    max_string=s[pos-i:pos+i+1]\n",
    "                    i+=1\n",
    "            return max_string\n",
    "            "
   ]
  },
  {
   "cell_type": "code",
   "execution_count": 29,
   "metadata": {},
   "outputs": [
    {
     "data": {
      "text/plain": [
       "'bb'"
      ]
     },
     "execution_count": 29,
     "metadata": {},
     "output_type": "execute_result"
    }
   ],
   "source": [
    "s='cbbd'\n",
    "longestPalindrome(s)\n"
   ]
  },
  {
   "cell_type": "code",
   "execution_count": 28,
   "metadata": {},
   "outputs": [],
   "source": [
    "def longestPalindrome(s):\n",
    "    s=[i for i in s]\n",
    "    s='#'+'#'.join(s)+'#'\n",
    "    def expand(s,pos):\n",
    "        i=1\n",
    "        max_string=''\n",
    "        while pos+i<len(s) and i<=pos and s[pos-i]==s[pos+i]:\n",
    "                max_string=s[pos-i:pos+i+1]\n",
    "                i+=1\n",
    "        return max_string\n",
    "    max_str=''\n",
    "    for i in range(1,len(s)-1):\n",
    "        a=expand(s,i)\n",
    "        if len(a)>len(max_str):\n",
    "            max_str=a\n",
    "    return ''.join(max_str.split(\"#\"))\n",
    "            "
   ]
  },
  {
   "cell_type": "code",
   "execution_count": null,
   "metadata": {},
   "outputs": [],
   "source": [
    "x="
   ]
  }
 ],
 "metadata": {
  "kernelspec": {
   "display_name": "Python 3",
   "language": "python",
   "name": "python3"
  },
  "language_info": {
   "codemirror_mode": {
    "name": "ipython",
    "version": 3
   },
   "file_extension": ".py",
   "mimetype": "text/x-python",
   "name": "python",
   "nbconvert_exporter": "python",
   "pygments_lexer": "ipython3",
   "version": "3.11.1"
  },
  "orig_nbformat": 4
 },
 "nbformat": 4,
 "nbformat_minor": 2
}
