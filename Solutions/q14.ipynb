{
 "cells": [
  {
   "cell_type": "code",
   "execution_count": null,
   "metadata": {},
   "outputs": [],
   "source": [
    " def totalFruit(fruits):\n",
    "    x={}\n",
    "    x.keys()=list(set(fruits))\n",
    "    streak=0\n",
    "    if len(fruits)<=2:\n",
    "        return len(fruits)\n",
    "    else:\n",
    "        for i in fruits:\n",
    "           if i not in x:\n",
    "\n"
   ]
  },
  {
   "cell_type": "code",
   "execution_count": 10,
   "metadata": {},
   "outputs": [
    {
     "ename": "TypeError",
     "evalue": "unhashable type: 'slice'",
     "output_type": "error",
     "traceback": [
      "\u001b[1;31m---------------------------------------------------------------------------\u001b[0m",
      "\u001b[1;31mTypeError\u001b[0m                                 Traceback (most recent call last)",
      "Cell \u001b[1;32mIn[10], line 6\u001b[0m\n\u001b[0;32m      4\u001b[0m     \u001b[39mif\u001b[39;00m i \u001b[39mnot\u001b[39;00m \u001b[39min\u001b[39;00m x\u001b[39m.\u001b[39mkeys():\n\u001b[0;32m      5\u001b[0m         x[i]\u001b[39m=\u001b[39m\u001b[39m1\u001b[39m\n\u001b[1;32m----> 6\u001b[0m     x\u001b[39m=\u001b[39mx[:\u001b[39m2\u001b[39;49m]\n\u001b[0;32m      7\u001b[0m \u001b[39mprint\u001b[39m(x)\n",
      "\u001b[1;31mTypeError\u001b[0m: unhashable type: 'slice'"
     ]
    }
   ],
   "source": [
    "fruits=[1,2,2,23,24,3,4,3,1,1,2,3,4,5,5]\n",
    "x=Counter(fruits)\n",
    "x[fruits[0]]=1\n",
    "x[fruits[1]]=1\n",
    "c=2\n",
    "if len(fruits)>2:\n",
    "    for i in fruits[2:]:\n",
    "        if i in x.keys():\n",
    "            c+=1\n",
    "        else:\n",
    "            x[fruits[0]]-=1\n",
    "            if len\n",
    "   \n",
    "print(x)\n"
   ]
  },
  {
   "cell_type": "code",
   "execution_count": 20,
   "metadata": {},
   "outputs": [
    {
     "name": "stdout",
     "output_type": "stream",
     "text": [
      "{1: 3, 2: 3, 23: 1, 24: 1, 3: 3, 4: 2, 5: 2}\n",
      "[1, 2, 23, 24, 3, 4, 5]\n"
     ]
    }
   ],
   "source": [
    "from collections import Counter\n",
    "fruits=[1,2,2,23,24,3,4,3,1,1,2,3,4,5,5]\n",
    "x=dict(Counter(fruits))\n",
    "print(x)\n",
    "if len(x)<3:\n",
    "    print(len(x))\n",
    "else:\n",
    "    f2=list(x.keys())[:2]\n",
    "    for i in range(len(fruits)):\n",
    "        if fruits[i] not in f2 and len(f2)<4:\n",
    "            f2.append(fruits[i])\n",
    "            x[f2[0]]-=1\n",
    "            if \n"
   ]
  },
  {
   "cell_type": "code",
   "execution_count": null,
   "metadata": {},
   "outputs": [],
   "source": [
    "from collections import Counter\n",
    "fruits=[1,2,2,23,24,3,4,3,1,1,2,3,4,5,5]\n",
    "x=dict(Counter(fruits))\n",
    "print(x)\n",
    "if len(x)<3:\n",
    "    print(len(x))\n",
    "else:\n",
    "    net=list(x.keys())\n",
    "    basket=net[:2]\n",
    "    alt=[]\n",
    "    c=0\n",
    "    nc=0\n",
    "    for i in fruits:\n",
    "        if i in basket:\n",
    "            c+=1\n",
    "        elif i not in basket and len(alt)<1 and :\n",
    "            alt.append[i]\n",
    "            nc+=1\n",
    "            \n",
    "            \n"
   ]
  },
  {
   "cell_type": "code",
   "execution_count": 22,
   "metadata": {},
   "outputs": [],
   "source": [
    " def totalFruit(fruits):\n",
    "    n=len(fruits)\n",
    "    i=j=m=0\n",
    "    x,y=fruits[0],-1\n",
    "    while j<n:\n",
    "        if fruits[j]!=x and y==-1:\n",
    "            y=fruits[j]\n",
    "        elif fruits[j]!=x and fruits[j]!=y:\n",
    "            x,y=fruits[j-1],fruits[j]\n",
    "            m=max(m,j-i)\n",
    "            i=j-1\n",
    "            while fruits[i-1]==x:\n",
    "                i-=1\n",
    "        j+=1\n",
    "    m=max(m,j-i)\n",
    "    return m"
   ]
  },
  {
   "cell_type": "code",
   "execution_count": 23,
   "metadata": {},
   "outputs": [
    {
     "data": {
      "text/plain": [
       "3"
      ]
     },
     "execution_count": 23,
     "metadata": {},
     "output_type": "execute_result"
    }
   ],
   "source": [
    "totalFruit(fruits)"
   ]
  },
  {
   "cell_type": "code",
   "execution_count": null,
   "metadata": {},
   "outputs": [],
   "source": []
  }
 ],
 "metadata": {
  "kernelspec": {
   "display_name": "Python 3",
   "language": "python",
   "name": "python3"
  },
  "language_info": {
   "codemirror_mode": {
    "name": "ipython",
    "version": 3
   },
   "file_extension": ".py",
   "mimetype": "text/x-python",
   "name": "python",
   "nbconvert_exporter": "python",
   "pygments_lexer": "ipython3",
   "version": "3.11.1"
  },
  "orig_nbformat": 4,
  "vscode": {
   "interpreter": {
    "hash": "3971dd98fba937236c54d48d5611fba4b9c0d08b0b579e3dfae41d5762619a1c"
   }
  }
 },
 "nbformat": 4,
 "nbformat_minor": 2
}
