{
 "cells": [
  {
   "cell_type": "code",
   "execution_count": null,
   "metadata": {},
   "outputs": [],
   "source": [
    "def isAlienSorted(self, words: List[str], order: str) -> bool:\n",
    "        h = {ch: i for i, ch in enumerate(order)}\n",
    "        previous = list(h[ch] for ch in words[0])\n",
    "        for i in range(1, len(words)):\n",
    "            present = list(h[ch] for ch in words[i])\n",
    "            if present < previous:\n",
    "                return False\n",
    "            previous = present\n",
    "        return True"
   ]
  }
 ],
 "metadata": {
  "kernelspec": {
   "display_name": "Python 3.9.7 64-bit",
   "language": "python",
   "name": "python3"
  },
  "language_info": {
   "codemirror_mode": {
    "name": "ipython",
    "version": 3
   },
   "file_extension": ".py",
   "mimetype": "text/x-python",
   "name": "python",
   "nbconvert_exporter": "python",
   "pygments_lexer": "ipython3",
   "version": "3.9.7"
  },
  "orig_nbformat": 4,
  "vscode": {
   "interpreter": {
    "hash": "52d1602d405e53c43c2fd07b40c098af2abaa6111111e453c00e2faec743c57e"
   }
  }
 },
 "nbformat": 4,
 "nbformat_minor": 2
}
