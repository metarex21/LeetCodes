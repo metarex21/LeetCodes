{
 "cells": [
  {
   "cell_type": "code",
   "execution_count": null,
   "metadata": {},
   "outputs": [],
   "source": [
    "import statistics\n",
    "class Solution:\n",
    "    def findMedianSortedArrays(self, nums1: List[int], nums2: List[int]) -> float:\n",
    "        nums1+=nums2\n",
    "        nums1.sort()\n",
    "        return statistics.median(nums1)"
   ]
  }
 ],
 "metadata": {
  "kernelspec": {
   "display_name": "Python 3.9.7 64-bit",
   "language": "python",
   "name": "python3"
  },
  "language_info": {
   "name": "python",
   "version": "3.9.7"
  },
  "orig_nbformat": 4,
  "vscode": {
   "interpreter": {
    "hash": "52d1602d405e53c43c2fd07b40c098af2abaa6111111e453c00e2faec743c57e"
   }
  }
 },
 "nbformat": 4,
 "nbformat_minor": 2
}
