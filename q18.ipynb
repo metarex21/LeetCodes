{
 "cells": [
  {
   "cell_type": "code",
   "execution_count": 1,
   "metadata": {},
   "outputs": [],
   "source": [
    "def maxArea(height):\n",
    "    \"\"\"\n",
    "    :type height: List[int]\n",
    "    :rtype: int\n",
    "    \"\"\"\n",
    "    #volume function\n",
    "    def volume():\n",
    "        return min(height[start],height[end])*(end-start)\n",
    "    \n",
    "    start=0\n",
    "    end=len(height)-1        \n",
    "    max_vol=volume()\n",
    "    while start<end:\n",
    "        if height[start]<height[end]:\n",
    "            start+=1\n",
    "        else:\n",
    "            end-=1\n",
    "        vol=volume()\n",
    "        if max_vol<vol:\n",
    "            max_vol=vol\n",
    "    return max_vol"
   ]
  },
  {
   "cell_type": "code",
   "execution_count": 4,
   "metadata": {},
   "outputs": [],
   "source": [
    "# height=[1,8,6,2,5,4,8,3,7]\n",
    "height=[8,6,99,100,100,48,3,7]\n"
   ]
  },
  {
   "cell_type": "code",
   "execution_count": 5,
   "metadata": {},
   "outputs": [
    {
     "data": {
      "text/plain": [
       "198"
      ]
     },
     "execution_count": 5,
     "metadata": {},
     "output_type": "execute_result"
    }
   ],
   "source": [
    "maxArea(height)"
   ]
  },
  {
   "cell_type": "code",
   "execution_count": null,
   "metadata": {},
   "outputs": [],
   "source": []
  }
 ],
 "metadata": {
  "kernelspec": {
   "display_name": "Python 3",
   "language": "python",
   "name": "python3"
  },
  "language_info": {
   "codemirror_mode": {
    "name": "ipython",
    "version": 3
   },
   "file_extension": ".py",
   "mimetype": "text/x-python",
   "name": "python",
   "nbconvert_exporter": "python",
   "pygments_lexer": "ipython3",
   "version": "3.11.1"
  },
  "orig_nbformat": 4
 },
 "nbformat": 4,
 "nbformat_minor": 2
}
