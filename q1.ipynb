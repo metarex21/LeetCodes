{
 "cells": [
  {
   "cell_type": "code",
   "execution_count": 1,
   "metadata": {},
   "outputs": [],
   "source": [
    "class Solution:\n",
    "    def gcdOfStrings(self, str1: str, str2: str) -> str:\n",
    "        if str1+str2==str2+str1:\n",
    "            return str1[:gcd(len(str1),len(str2))]\n",
    "        else:return \"\"\n",
    "\n",
    "    def gcd(a,b):\n",
    "        for i in range(min(a,b),0,-1):\n",
    "            if a%i==0 and b%i==0:\n",
    "                return i"
   ]
  }
 ],
 "metadata": {
  "kernelspec": {
   "display_name": "Python 3.9.7 64-bit",
   "language": "python",
   "name": "python3"
  },
  "language_info": {
   "codemirror_mode": {
    "name": "ipython",
    "version": 3
   },
   "file_extension": ".py",
   "mimetype": "text/x-python",
   "name": "python",
   "nbconvert_exporter": "python",
   "pygments_lexer": "ipython3",
   "version": "3.9.7"
  },
  "orig_nbformat": 4,
  "vscode": {
   "interpreter": {
    "hash": "52d1602d405e53c43c2fd07b40c098af2abaa6111111e453c00e2faec743c57e"
   }
  }
 },
 "nbformat": 4,
 "nbformat_minor": 2
}
